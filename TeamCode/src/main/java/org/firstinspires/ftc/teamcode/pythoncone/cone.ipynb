{
 "cells": [
  {
   "cell_type": "markdown",
   "metadata": {},
   "source": [
    "# Will's cone detection notebook\n",
    "\n",
    "## Purpose\n",
    "\n",
    "I'm not very good at java tbh, so I'll do my code things here."
   ]
  },
  {
   "cell_type": "code",
   "execution_count": 244,
   "metadata": {},
   "outputs": [
    {
     "name": "stdout",
     "output_type": "stream",
     "text": [
      "85\n"
     ]
    }
   ],
   "source": [
    "from functools import reduce\n",
    "import cv2\n",
    "import numpy as np\n",
    "import matplotlib.pyplot as plt\n",
    "from num2words import num2words\n",
    "\n",
    "# grab relative path for loading images\n",
    "import os\n",
    "notebook_path = os.path.abspath(\"Notebook.ipynb\")\n",
    "\n",
    "def compose(*f_arg_pairs):\n",
    "    def cr(*fs):\n",
    "        pair = fs[0]\n",
    "        if len(fs) == 1:\n",
    "            return lambda x:pair[0](x,*pair[1])\n",
    "        return lambda x:pair[0](cr(*fs[1:])(x),*pair[1])\n",
    "    return cr(*reversed(f_arg_pairs))\n",
    "\n",
    "digitalsum = compose(\n",
    "    (int,()),\n",
    "    (str,()),\n",
    "    (list,()),\n",
    "    (lambda x: (int(n) for n in x),()),\n",
    "    (sum, ()),\n",
    ")\n",
    "\n",
    "print(digitalsum(314159265358979323))\n",
    "\n",
    "\n",
    "def add_image(*dispImage):\n",
    "    fig = plt.figure(figsize=(6*len(dispImage),8))\n",
    "    for index, img in enumerate(dispImage):\n",
    "        fig.add_subplot(1, len(dispImage), index+1)\n",
    "        # showing image\n",
    "        plt.imshow(img)\n",
    "        plt.axis('off')\n",
    "        plt.title(num2words(index+1,True,to=\"ordinal\").capitalize())\n"
   ]
  },
  {
   "cell_type": "markdown",
   "metadata": {},
   "source": [
    "## Image processing functions"
   ]
  },
  {
   "cell_type": "code",
   "execution_count": 433,
   "metadata": {},
   "outputs": [],
   "source": [
    "def flood_from_pix(floodImg: np.ndarray, pixel: tuple = ()):\n",
    "    h, w = floodImg.shape[:2]\n",
    "    if not pixel: pixel = (w//2, h//2)\n",
    "    mask = np.zeros((h+2,w+2), np.uint8)\n",
    "    flat = floodImg.astype(np.uint8)\n",
    "    cv2.floodFill(flat, mask, pixel, 255)\n",
    "    return cv2.threshold(flat, 254, 255, cv2.THRESH_BINARY)[1]\n",
    "\n",
    "def resize_image(dimImage: np.ndarray, newsize: tuple = ()):\n",
    "    print(dims:=dimImage.shape)\n",
    "    if newsize:\n",
    "        rowedge = (dims[0]-newsize[0])//2\n",
    "        coledge = (dims[1]-newsize[1])//2\n",
    "\n",
    "        return dimImage[rowedge:dims[0]-rowedge,coledge:dims[1]-coledge]\n",
    "\n",
    "    return dimImage\n",
    "\n",
    "def tri_stack(stackImg: np.ndarray):\n",
    "    return np.dstack([stackImg,stackImg,stackImg])\n",
    "\n",
    "def extract_channel(extrImg: np.ndarray, channel: int = 0):\n",
    "    return tri_stack(extrImg[:,:,channel])\n",
    "\n",
    "def point(pointImg: np.ndarray, xy: tuple, clr: tuple):\n",
    "    return cv2.circle(pointImg, xy, radius=5, color=clr, thickness=-1)"
   ]
  },
  {
   "cell_type": "markdown",
   "metadata": {},
   "source": [
    "## Shape Pipeline\n",
    "\n",
    "This pipeline takes a cone with a shape on it, and returns a mask over the shape."
   ]
  },
  {
   "cell_type": "code",
   "execution_count": 456,
   "metadata": {},
   "outputs": [],
   "source": [
    "from pickle import dump\n",
    "\n",
    "color_pipeline = lambda img, seed: compose(\n",
    "        (extract_channel, (0,)),\n",
    "        # 200 is min, 250 is max. If theres too much bg noise, turn up 200. If the shape gets cut, turn up 250.\n",
    "        (cv2.Canny, (200, 250)),\n",
    "        (cv2.blur, ((7, 7),)),\n",
    "        (flood_from_pix, (seed,)),\n",
    "        (cv2.Canny, (200, 250)),\n",
    "    )(img)\n",
    "\n",
    "image = cv2.imread(\"Images/Shapes V2/Normal/Triangle.png\", cv2.IMREAD_UNCHANGED)\n",
    "# webcam = cv2.VideoCapture(0)\n",
    "# image = webcam.read()[1]\n",
    "# webcam.release()\n",
    "\n",
    "prep_pipeline = compose(\n",
    "    (cv2.flip, (1,)),\n",
    "    (cv2.cvtColor, (cv2.COLOR_RGB2BGR,)),\n",
    "    # (resize_image, ((480,360),)),\n",
    ")\n",
    "\n",
    "image = prep_pipeline(image)\n",
    "\n",
    "cnvimage = cv2.cvtColor(image, cv2.COLOR_RGB2HSV)\n",
    "cnvimage = color_pipeline(image,(240,240))\n",
    "# cnvimage = cv2.cvtColor(cnvimage, cv2.COLOR_HSV2RGB)\n",
    "# add_image(image,cnvimage)\n",
    "# cnvimage = cv2.cvtColor(cnvimage, cv2.COLOR_RGB2GRAY)\n",
    "\n",
    "# image = cv2.cvtColor(image, cv2.COLOR_RGB2BGR)\n",
    "# cv2.imwrite(\"Images/Shapes V2/Normal/Pentagon.png\",image)\n",
    "# cv2.imwrite(\"Images/Shapes V2/Processed/Pentagon.png\",cnvimage)\n",
    "\n",
    "dump(cnvimage, open(\"temp/cnvimage\",'wb+'))"
   ]
  },
  {
   "cell_type": "markdown",
   "metadata": {},
   "source": [
    "### Grab edges\n",
    "\n",
    "Take the edges, find the contours, and then approximate as a polygon."
   ]
  },
  {
   "cell_type": "code",
   "execution_count": null,
   "metadata": {},
   "outputs": [],
   "source": [
    "from pickle import load\n",
    "\n",
    "\n",
    "cnvimage = load(open(\"temp/cnvimage\",'rb'))\n",
    "\n"
   ]
  }
 ],
 "metadata": {
  "kernelspec": {
   "display_name": "Python 3.10.6",
   "language": "python",
   "name": "python3"
  },
  "language_info": {
   "codemirror_mode": {
    "name": "ipython",
    "version": 3
   },
   "file_extension": ".py",
   "mimetype": "text/x-python",
   "name": "python",
   "nbconvert_exporter": "python",
   "pygments_lexer": "ipython3",
   "version": "3.10.6"
  },
  "orig_nbformat": 4,
  "vscode": {
   "interpreter": {
    "hash": "8563a19876151bfb06a7c3bb50edebffd13ce42d1aa9242116825cc867e2cb67"
   }
  }
 },
 "nbformat": 4,
 "nbformat_minor": 2
}
